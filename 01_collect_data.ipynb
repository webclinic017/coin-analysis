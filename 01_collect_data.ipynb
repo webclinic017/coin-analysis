{
 "cells": [
  {
   "cell_type": "markdown",
   "id": "fe6ee8c1",
   "metadata": {},
   "source": [
    "# ccxt를 이용한 데이터 수집"
   ]
  },
  {
   "cell_type": "code",
   "execution_count": 4,
   "id": "9c444393",
   "metadata": {},
   "outputs": [
    {
     "name": "stdout",
     "output_type": "stream",
     "text": [
      "Collecting ccxt\n",
      "  Downloading ccxt-1.68.84-py2.py3-none-any.whl (2.3 MB)\n",
      "Collecting aiodns>=1.1.1\n",
      "  Downloading aiodns-3.0.0-py3-none-any.whl (5.0 kB)\n",
      "Requirement already satisfied: cryptography>=2.6.1 in c:\\programdata\\anaconda3\\lib\\site-packages (from ccxt) (3.4.8)\n",
      "Requirement already satisfied: certifi>=2018.1.18 in c:\\programdata\\anaconda3\\lib\\site-packages (from ccxt) (2021.10.8)\n",
      "Collecting aiohttp>=3.8\n",
      "  Downloading aiohttp-3.8.1-cp39-cp39-win_amd64.whl (554 kB)\n",
      "Requirement already satisfied: requests>=2.18.4 in c:\\programdata\\anaconda3\\lib\\site-packages (from ccxt) (2.26.0)\n",
      "Requirement already satisfied: setuptools>=38.5.1 in c:\\programdata\\anaconda3\\lib\\site-packages (from ccxt) (58.0.4)\n",
      "Collecting yarl==1.7.2\n",
      "  Downloading yarl-1.7.2-cp39-cp39-win_amd64.whl (122 kB)\n",
      "Collecting multidict>=4.0\n",
      "  Downloading multidict-5.2.0-cp39-cp39-win_amd64.whl (45 kB)\n",
      "Requirement already satisfied: idna>=2.0 in c:\\programdata\\anaconda3\\lib\\site-packages (from yarl==1.7.2->ccxt) (3.2)\n",
      "Collecting pycares>=4.0.0\n",
      "  Downloading pycares-4.1.2-cp39-cp39-win_amd64.whl (83 kB)\n",
      "Collecting async-timeout<5.0,>=4.0.0a3\n",
      "  Downloading async_timeout-4.0.2-py3-none-any.whl (5.8 kB)\n",
      "Collecting aiosignal>=1.1.2\n",
      "  Downloading aiosignal-1.2.0-py3-none-any.whl (8.2 kB)\n",
      "Collecting frozenlist>=1.1.1\n",
      "  Downloading frozenlist-1.3.0-cp39-cp39-win_amd64.whl (33 kB)\n",
      "Requirement already satisfied: charset-normalizer<3.0,>=2.0 in c:\\programdata\\anaconda3\\lib\\site-packages (from aiohttp>=3.8->ccxt) (2.0.4)\n",
      "Requirement already satisfied: attrs>=17.3.0 in c:\\programdata\\anaconda3\\lib\\site-packages (from aiohttp>=3.8->ccxt) (21.2.0)\n",
      "Requirement already satisfied: cffi>=1.12 in c:\\programdata\\anaconda3\\lib\\site-packages (from cryptography>=2.6.1->ccxt) (1.14.6)\n",
      "Requirement already satisfied: pycparser in c:\\programdata\\anaconda3\\lib\\site-packages (from cffi>=1.12->cryptography>=2.6.1->ccxt) (2.20)\n",
      "Requirement already satisfied: urllib3<1.27,>=1.21.1 in c:\\programdata\\anaconda3\\lib\\site-packages (from requests>=2.18.4->ccxt) (1.26.7)\n",
      "Installing collected packages: multidict, frozenlist, yarl, pycares, async-timeout, aiosignal, aiohttp, aiodns, ccxt\n",
      "Successfully installed aiodns-3.0.0 aiohttp-3.8.1 aiosignal-1.2.0 async-timeout-4.0.2 ccxt-1.68.84 frozenlist-1.3.0 multidict-5.2.0 pycares-4.1.2 yarl-1.7.2\n",
      "Note: you may need to restart the kernel to use updated packages.\n"
     ]
    }
   ],
   "source": [
    "pip install ccxt"
   ]
  },
  {
   "cell_type": "code",
   "execution_count": 1,
   "id": "c8874d5c",
   "metadata": {},
   "outputs": [],
   "source": [
    "# 라이브러리 import\n",
    "import ccxt\n",
    "import pandas as pd"
   ]
  },
  {
   "cell_type": "code",
   "execution_count": 2,
   "id": "d9c42b70",
   "metadata": {},
   "outputs": [],
   "source": [
    "# binance 변수 설정\n",
    "binance = ccxt.binance()"
   ]
  },
  {
   "cell_type": "code",
   "execution_count": 4,
   "id": "bfbaad13",
   "metadata": {},
   "outputs": [
    {
     "name": "stdout",
     "output_type": "stream",
     "text": [
      "                         open      high       low     close    volume\n",
      "datetime                                                             \n",
      "2022-01-20 07:52:00  42038.41  42043.07  42018.81  42043.07   8.29377\n",
      "2022-01-20 07:53:00  42043.06  42071.54  42043.06  42049.21  15.89499\n",
      "2022-01-20 07:54:00  42049.21  42064.19  42037.07  42041.46   9.50859\n",
      "2022-01-20 07:55:00  42041.46  42054.21  42018.80  42040.75  13.32876\n",
      "2022-01-20 07:56:00  42040.75  42041.74  42027.34  42027.35   7.31216\n",
      "...                       ...       ...       ...       ...       ...\n",
      "2022-01-20 16:07:00  43386.67  43389.74  43330.01  43361.88  45.62718\n",
      "2022-01-20 16:08:00  43358.32  43363.27  43318.90  43322.01  37.98414\n",
      "2022-01-20 16:09:00  43322.01  43327.29  43283.80  43297.69  30.91202\n",
      "2022-01-20 16:10:00  43297.69  43297.70  43223.16  43233.97  40.11309\n",
      "2022-01-20 16:11:00  43233.98  43258.79  43200.35  43212.04  27.33035\n",
      "\n",
      "[500 rows x 5 columns]\n"
     ]
    }
   ],
   "source": [
    "# 분 단위(default)\n",
    "## BTC 데이터 불러오기\n",
    "btc_ohlcv = binance.fetch_ohlcv(\"BTC/USDT\")\n",
    "## 데이터프레임 생성\n",
    "btc_ohlcv_df = pd.DataFrame(btc_ohlcv, columns=['datetime', 'open', 'high', 'low', 'close', 'volume'])\n",
    "btc_ohlcv_df['datetime'] = pd.to_datetime(btc_ohlcv_df['datetime'], unit='ms')\n",
    "btc_ohlcv_df.set_index('datetime', inplace=True)\n",
    "## 데이터프레임 출력\n",
    "print(btc_ohlcv_df)"
   ]
  },
  {
   "cell_type": "code",
   "execution_count": 20,
   "id": "0c6e10b3",
   "metadata": {},
   "outputs": [
    {
     "name": "stdout",
     "output_type": "stream",
     "text": [
      "                         open      high       low     close      volume\n",
      "datetime                                                               \n",
      "2021-12-30 21:00:00  47203.16  47347.84  46919.44  47300.00   890.70108\n",
      "2021-12-30 22:00:00  47299.99  47325.33  46729.00  47084.88   792.93614\n",
      "2021-12-30 23:00:00  47084.88  47242.60  46940.96  47120.87   710.18694\n",
      "2021-12-31 00:00:00  47120.88  47500.00  46826.21  47073.98  1084.11426\n",
      "2021-12-31 01:00:00  47073.99  47349.10  46842.28  47121.94   762.07203\n",
      "...                       ...       ...       ...       ...         ...\n",
      "2022-01-20 12:00:00  42129.45  42131.71  41900.05  42033.76  1141.58213\n",
      "2022-01-20 13:00:00  42033.77  42466.88  41970.19  42375.14  1980.38037\n",
      "2022-01-20 14:00:00  42374.09  43060.00  42368.77  42969.66  3692.57219\n",
      "2022-01-20 15:00:00  42969.67  43456.00  42936.91  43308.69  4058.16745\n",
      "2022-01-20 16:00:00  43308.70  43505.00  43144.84  43208.56  1210.07187\n",
      "\n",
      "[500 rows x 5 columns]\n"
     ]
    }
   ],
   "source": [
    "# 시간 단위\n",
    "## BTC 데이터 불러오기\n",
    "## '1d' 변수 인자 추가\n",
    "btc_ohlcv = binance.fetch_ohlcv(\"BTC/USDT\", '1h')\n",
    "## 데이터프레임 생성\n",
    "btc_ohlcv_df = pd.DataFrame(btc_ohlcv, columns=['datetime', 'open', 'high', 'low', 'close', 'volume'])\n",
    "btc_ohlcv_df['datetime'] = pd.to_datetime(btc_ohlcv_df['datetime'], unit='ms')\n",
    "btc_ohlcv_df.set_index('datetime', inplace=True)\n",
    "## 데이터프레임 출력\n",
    "print(btc_ohlcv_df)"
   ]
  },
  {
   "cell_type": "markdown",
   "id": "0b1d3f74",
   "metadata": {},
   "source": [
    "* 시간 단위 : '1h' 변수 추가\n",
    "* 일 단위 : '1d' 변수 추가\n",
    "* 주 단위 : '1w' 변수 추가\n",
    "* 월 단위 : '1M' 변수 추가\n",
    "* 월 단위 : '1M' 변수 추가"
   ]
  },
  {
   "cell_type": "markdown",
   "id": "5d29e93d",
   "metadata": {},
   "source": [
    "# python-binance를 이용한 데이터 수집"
   ]
  },
  {
   "cell_type": "code",
   "execution_count": 6,
   "id": "8590b3c4",
   "metadata": {},
   "outputs": [
    {
     "name": "stdout",
     "output_type": "stream",
     "text": [
      "Collecting python-binance\n",
      "  Downloading python_binance-1.0.15-py2.py3-none-any.whl (63 kB)\n",
      "Requirement already satisfied: six in c:\\programdata\\anaconda3\\lib\\site-packages (from python-binance) (1.16.0)\n",
      "Requirement already satisfied: ujson in c:\\programdata\\anaconda3\\lib\\site-packages (from python-binance) (4.0.2)\n",
      "Requirement already satisfied: aiohttp in c:\\programdata\\anaconda3\\lib\\site-packages (from python-binance) (3.8.1)\n",
      "Collecting websockets==9.1\n",
      "  Downloading websockets-9.1-cp39-cp39-win_amd64.whl (90 kB)\n",
      "Collecting dateparser\n",
      "  Downloading dateparser-1.1.0-py2.py3-none-any.whl (288 kB)\n",
      "Requirement already satisfied: requests in c:\\programdata\\anaconda3\\lib\\site-packages (from python-binance) (2.26.0)\n",
      "Requirement already satisfied: async-timeout<5.0,>=4.0.0a3 in c:\\programdata\\anaconda3\\lib\\site-packages (from aiohttp->python-binance) (4.0.2)\n",
      "Requirement already satisfied: multidict<7.0,>=4.5 in c:\\programdata\\anaconda3\\lib\\site-packages (from aiohttp->python-binance) (5.2.0)\n",
      "Requirement already satisfied: charset-normalizer<3.0,>=2.0 in c:\\programdata\\anaconda3\\lib\\site-packages (from aiohttp->python-binance) (2.0.4)\n",
      "Requirement already satisfied: yarl<2.0,>=1.0 in c:\\programdata\\anaconda3\\lib\\site-packages (from aiohttp->python-binance) (1.7.2)\n",
      "Requirement already satisfied: frozenlist>=1.1.1 in c:\\programdata\\anaconda3\\lib\\site-packages (from aiohttp->python-binance) (1.3.0)\n",
      "Requirement already satisfied: attrs>=17.3.0 in c:\\programdata\\anaconda3\\lib\\site-packages (from aiohttp->python-binance) (21.2.0)\n",
      "Requirement already satisfied: aiosignal>=1.1.2 in c:\\programdata\\anaconda3\\lib\\site-packages (from aiohttp->python-binance) (1.2.0)\n",
      "Requirement already satisfied: idna>=2.0 in c:\\programdata\\anaconda3\\lib\\site-packages (from yarl<2.0,>=1.0->aiohttp->python-binance) (3.2)\n",
      "Requirement already satisfied: pytz in c:\\programdata\\anaconda3\\lib\\site-packages (from dateparser->python-binance) (2021.3)\n",
      "Requirement already satisfied: python-dateutil in c:\\programdata\\anaconda3\\lib\\site-packages (from dateparser->python-binance) (2.8.2)\n",
      "Requirement already satisfied: regex!=2019.02.19,!=2021.8.27 in c:\\programdata\\anaconda3\\lib\\site-packages (from dateparser->python-binance) (2021.8.3)\n",
      "Collecting tzlocal\n",
      "  Downloading tzlocal-4.1-py3-none-any.whl (19 kB)\n",
      "Requirement already satisfied: certifi>=2017.4.17 in c:\\programdata\\anaconda3\\lib\\site-packages (from requests->python-binance) (2021.10.8)\n",
      "Requirement already satisfied: urllib3<1.27,>=1.21.1 in c:\\programdata\\anaconda3\\lib\\site-packages (from requests->python-binance) (1.26.7)\n",
      "Collecting tzdata\n",
      "  Downloading tzdata-2021.5-py2.py3-none-any.whl (339 kB)\n",
      "Collecting pytz-deprecation-shim\n",
      "  Downloading pytz_deprecation_shim-0.1.0.post0-py2.py3-none-any.whl (15 kB)\n",
      "Installing collected packages: tzdata, pytz-deprecation-shim, tzlocal, websockets, dateparser, python-binance\n",
      "Successfully installed dateparser-1.1.0 python-binance-1.0.15 pytz-deprecation-shim-0.1.0.post0 tzdata-2021.5 tzlocal-4.1 websockets-9.1\n",
      "Note: you may need to restart the kernel to use updated packages.\n"
     ]
    }
   ],
   "source": [
    "pip install python-binance"
   ]
  },
  {
   "cell_type": "code",
   "execution_count": null,
   "id": "8225cb04",
   "metadata": {},
   "outputs": [],
   "source": []
  }
 ],
 "metadata": {
  "kernelspec": {
   "display_name": "Python 3 (ipykernel)",
   "language": "python",
   "name": "python3"
  },
  "language_info": {
   "codemirror_mode": {
    "name": "ipython",
    "version": 3
   },
   "file_extension": ".py",
   "mimetype": "text/x-python",
   "name": "python",
   "nbconvert_exporter": "python",
   "pygments_lexer": "ipython3",
   "version": "3.9.7"
  }
 },
 "nbformat": 4,
 "nbformat_minor": 5
}

{
  "nbformat": 4,
  "nbformat_minor": 0,
  "metadata": {
    "colab": {
      "name": "트위터 크롤링_selenium.ipynb",
      "provenance": [],
      "authorship_tag": "ABX9TyMcUwG0E+laS6HF80wp8Dy4",
      "include_colab_link": true
    },
    "kernelspec": {
      "name": "python3",
      "display_name": "Python 3"
    },
    "language_info": {
      "name": "python"
    }
  },
  "cells": [
    {
      "cell_type": "markdown",
      "metadata": {
        "id": "view-in-github",
        "colab_type": "text"
      },
      "source": [
        "<a href=\"https://colab.research.google.com/github/HwayoungYoon/coin-analysis/blob/main/%ED%8A%B8%EC%9C%84%ED%84%B0_%ED%81%AC%EB%A1%A4%EB%A7%81_selenium.ipynb\" target=\"_parent\"><img src=\"https://colab.research.google.com/assets/colab-badge.svg\" alt=\"Open In Colab\"/></a>"
      ]
    },
    {
      "cell_type": "code",
      "source": [
        "!pip install selenium\n",
        "!apt-get update\n",
        "!apt install chromium-chromedriver\n",
        "!cp /usr/lib/chromium-browser/chromedriver /usr/bin"
      ],
      "metadata": {
        "colab": {
          "base_uri": "https://localhost:8080/"
        },
        "id": "YVp7aOnGAHvB",
        "outputId": "4200e267-0e81-4b56-9370-67fbda35f2dc"
      },
      "execution_count": null,
      "outputs": [
        {
          "output_type": "stream",
          "name": "stdout",
          "text": [
            "Looking in indexes: https://pypi.org/simple, https://us-python.pkg.dev/colab-wheels/public/simple/\n",
            "Requirement already satisfied: selenium in /usr/local/lib/python3.7/dist-packages (4.2.0)\n",
            "Requirement already satisfied: trio~=0.17 in /usr/local/lib/python3.7/dist-packages (from selenium) (0.21.0)\n",
            "Requirement already satisfied: urllib3[secure,socks]~=1.26 in /usr/local/lib/python3.7/dist-packages (from selenium) (1.26.9)\n",
            "Requirement already satisfied: trio-websocket~=0.9 in /usr/local/lib/python3.7/dist-packages (from selenium) (0.9.2)\n",
            "Requirement already satisfied: idna in /usr/local/lib/python3.7/dist-packages (from trio~=0.17->selenium) (2.10)\n",
            "Requirement already satisfied: outcome in /usr/local/lib/python3.7/dist-packages (from trio~=0.17->selenium) (1.2.0)\n",
            "Requirement already satisfied: sniffio in /usr/local/lib/python3.7/dist-packages (from trio~=0.17->selenium) (1.2.0)\n",
            "Requirement already satisfied: async-generator>=1.9 in /usr/local/lib/python3.7/dist-packages (from trio~=0.17->selenium) (1.10)\n",
            "Requirement already satisfied: sortedcontainers in /usr/local/lib/python3.7/dist-packages (from trio~=0.17->selenium) (2.4.0)\n",
            "Requirement already satisfied: attrs>=19.2.0 in /usr/local/lib/python3.7/dist-packages (from trio~=0.17->selenium) (21.4.0)\n",
            "Requirement already satisfied: wsproto>=0.14 in /usr/local/lib/python3.7/dist-packages (from trio-websocket~=0.9->selenium) (1.1.0)\n",
            "Requirement already satisfied: PySocks!=1.5.7,<2.0,>=1.5.6 in /usr/local/lib/python3.7/dist-packages (from urllib3[secure,socks]~=1.26->selenium) (1.7.1)\n",
            "Requirement already satisfied: cryptography>=1.3.4 in /usr/local/lib/python3.7/dist-packages (from urllib3[secure,socks]~=1.26->selenium) (37.0.2)\n",
            "Requirement already satisfied: certifi in /usr/local/lib/python3.7/dist-packages (from urllib3[secure,socks]~=1.26->selenium) (2022.6.15)\n",
            "Requirement already satisfied: pyOpenSSL>=0.14 in /usr/local/lib/python3.7/dist-packages (from urllib3[secure,socks]~=1.26->selenium) (22.0.0)\n",
            "Requirement already satisfied: cffi>=1.12 in /usr/local/lib/python3.7/dist-packages (from cryptography>=1.3.4->urllib3[secure,socks]~=1.26->selenium) (1.15.0)\n",
            "Requirement already satisfied: pycparser in /usr/local/lib/python3.7/dist-packages (from cffi>=1.12->cryptography>=1.3.4->urllib3[secure,socks]~=1.26->selenium) (2.21)\n",
            "Requirement already satisfied: h11<1,>=0.9.0 in /usr/local/lib/python3.7/dist-packages (from wsproto>=0.14->trio-websocket~=0.9->selenium) (0.13.0)\n",
            "Requirement already satisfied: typing-extensions in /usr/local/lib/python3.7/dist-packages (from h11<1,>=0.9.0->wsproto>=0.14->trio-websocket~=0.9->selenium) (4.1.1)\n",
            "Get:1 http://security.ubuntu.com/ubuntu bionic-security InRelease [88.7 kB]\n",
            "Get:2 https://cloud.r-project.org/bin/linux/ubuntu bionic-cran40/ InRelease [3,626 B]\n",
            "Hit:3 http://archive.ubuntu.com/ubuntu bionic InRelease\n",
            "Hit:4 https://developer.download.nvidia.com/compute/cuda/repos/ubuntu1804/x86_64  InRelease\n",
            "Get:5 http://archive.ubuntu.com/ubuntu bionic-updates InRelease [88.7 kB]\n",
            "Get:6 http://archive.ubuntu.com/ubuntu bionic-backports InRelease [74.6 kB]\n",
            "Hit:7 http://ppa.launchpad.net/c2d4u.team/c2d4u4.0+/ubuntu bionic InRelease\n",
            "Ign:8 https://developer.download.nvidia.com/compute/machine-learning/repos/ubuntu1804/x86_64  InRelease\n",
            "Hit:9 https://developer.download.nvidia.com/compute/machine-learning/repos/ubuntu1804/x86_64  Release\n",
            "Hit:10 http://ppa.launchpad.net/cran/libgit2/ubuntu bionic InRelease\n",
            "Hit:11 http://ppa.launchpad.net/deadsnakes/ppa/ubuntu bionic InRelease\n",
            "Hit:12 http://ppa.launchpad.net/graphics-drivers/ppa/ubuntu bionic InRelease\n",
            "Get:13 http://security.ubuntu.com/ubuntu bionic-security/universe amd64 Packages [1,521 kB]\n",
            "Get:14 http://security.ubuntu.com/ubuntu bionic-security/restricted amd64 Packages [1,006 kB]\n",
            "Get:15 http://security.ubuntu.com/ubuntu bionic-security/main amd64 Packages [2,861 kB]\n",
            "Get:16 http://security.ubuntu.com/ubuntu bionic-security/multiverse amd64 Packages [22.8 kB]\n",
            "Get:17 http://archive.ubuntu.com/ubuntu bionic-updates/main amd64 Packages [3,294 kB]\n",
            "Get:18 http://archive.ubuntu.com/ubuntu bionic-updates/restricted amd64 Packages [1,040 kB]\n",
            "Get:19 http://archive.ubuntu.com/ubuntu bionic-updates/multiverse amd64 Packages [29.8 kB]\n",
            "Get:20 http://archive.ubuntu.com/ubuntu bionic-updates/universe amd64 Packages [2,297 kB]\n",
            "Get:21 http://archive.ubuntu.com/ubuntu bionic-backports/main amd64 Packages [12.2 kB]\n",
            "Fetched 12.3 MB in 3s (4,439 kB/s)\n",
            "Reading package lists... Done\n",
            "Reading package lists... Done\n",
            "Building dependency tree       \n",
            "Reading state information... Done\n",
            "The following package was automatically installed and is no longer required:\n",
            "  libnvidia-common-460\n",
            "Use 'apt autoremove' to remove it.\n",
            "The following additional packages will be installed:\n",
            "  chromium-browser chromium-browser-l10n chromium-codecs-ffmpeg-extra\n",
            "Suggested packages:\n",
            "  webaccounts-chromium-extension unity-chromium-extension\n",
            "The following NEW packages will be installed:\n",
            "  chromium-browser chromium-browser-l10n chromium-chromedriver\n",
            "  chromium-codecs-ffmpeg-extra\n",
            "0 upgraded, 4 newly installed, 0 to remove and 49 not upgraded.\n",
            "Need to get 89.8 MB of archives.\n",
            "After this operation, 302 MB of additional disk space will be used.\n",
            "Get:1 http://archive.ubuntu.com/ubuntu bionic-updates/universe amd64 chromium-codecs-ffmpeg-extra amd64 101.0.4951.64-0ubuntu0.18.04.1 [1,142 kB]\n",
            "Get:2 http://archive.ubuntu.com/ubuntu bionic-updates/universe amd64 chromium-browser amd64 101.0.4951.64-0ubuntu0.18.04.1 [78.5 MB]\n",
            "Get:3 http://archive.ubuntu.com/ubuntu bionic-updates/universe amd64 chromium-browser-l10n all 101.0.4951.64-0ubuntu0.18.04.1 [4,980 kB]\n",
            "Get:4 http://archive.ubuntu.com/ubuntu bionic-updates/universe amd64 chromium-chromedriver amd64 101.0.4951.64-0ubuntu0.18.04.1 [5,153 kB]\n",
            "Fetched 89.8 MB in 2s (52.0 MB/s)\n",
            "Selecting previously unselected package chromium-codecs-ffmpeg-extra.\n",
            "(Reading database ... 155639 files and directories currently installed.)\n",
            "Preparing to unpack .../chromium-codecs-ffmpeg-extra_101.0.4951.64-0ubuntu0.18.04.1_amd64.deb ...\n",
            "Unpacking chromium-codecs-ffmpeg-extra (101.0.4951.64-0ubuntu0.18.04.1) ...\n",
            "Selecting previously unselected package chromium-browser.\n",
            "Preparing to unpack .../chromium-browser_101.0.4951.64-0ubuntu0.18.04.1_amd64.deb ...\n",
            "Unpacking chromium-browser (101.0.4951.64-0ubuntu0.18.04.1) ...\n",
            "Selecting previously unselected package chromium-browser-l10n.\n",
            "Preparing to unpack .../chromium-browser-l10n_101.0.4951.64-0ubuntu0.18.04.1_all.deb ...\n",
            "Unpacking chromium-browser-l10n (101.0.4951.64-0ubuntu0.18.04.1) ...\n",
            "Selecting previously unselected package chromium-chromedriver.\n",
            "Preparing to unpack .../chromium-chromedriver_101.0.4951.64-0ubuntu0.18.04.1_amd64.deb ...\n",
            "Unpacking chromium-chromedriver (101.0.4951.64-0ubuntu0.18.04.1) ...\n",
            "Setting up chromium-codecs-ffmpeg-extra (101.0.4951.64-0ubuntu0.18.04.1) ...\n",
            "Setting up chromium-browser (101.0.4951.64-0ubuntu0.18.04.1) ...\n",
            "update-alternatives: using /usr/bin/chromium-browser to provide /usr/bin/x-www-browser (x-www-browser) in auto mode\n",
            "update-alternatives: using /usr/bin/chromium-browser to provide /usr/bin/gnome-www-browser (gnome-www-browser) in auto mode\n",
            "Setting up chromium-chromedriver (101.0.4951.64-0ubuntu0.18.04.1) ...\n",
            "Setting up chromium-browser-l10n (101.0.4951.64-0ubuntu0.18.04.1) ...\n",
            "Processing triggers for man-db (2.8.3-2ubuntu0.1) ...\n",
            "Processing triggers for hicolor-icon-theme (0.17-2) ...\n",
            "Processing triggers for mime-support (3.60ubuntu1) ...\n",
            "Processing triggers for libc-bin (2.27-3ubuntu1.3) ...\n",
            "/sbin/ldconfig.real: /usr/local/lib/python3.7/dist-packages/ideep4py/lib/libmkldnn.so.0 is not a symbolic link\n",
            "\n",
            "cp: '/usr/lib/chromium-browser/chromedriver' and '/usr/bin/chromedriver' are the same file\n"
          ]
        }
      ]
    },
    {
      "cell_type": "code",
      "execution_count": null,
      "metadata": {
        "id": "FqAMUb2R_6qy"
      },
      "outputs": [],
      "source": [
        "from selenium import webdriver\n",
        "from bs4 import BeautifulSoup as bs\n",
        "import requests\n",
        "from selenium.webdriver.common.desired_capabilities import  DesiredCapabilities\n",
        "import time\n",
        "from selenium.webdriver.common.keys import Keys\n",
        "from selenium.webdriver.common.by import By\n",
        "from selenium.webdriver.support.ui import WebDriverWait\n",
        "from selenium.webdriver.support import expected_conditions as EC\n",
        "from selenium.common.exceptions import TimeoutException\n",
        "import datetime as dt\n",
        "import pandas as pd"
      ]
    },
    {
      "cell_type": "code",
      "source": [
        "#Colab에선 웹브라우저 창이 뜨지 않으므로 별도 설정한다.\n",
        "\n",
        "options = webdriver.ChromeOptions()\n",
        "options.add_argument('--headless')        # Head-less 설정\n",
        "options.add_argument('--no-sandbox')\n",
        "options.add_argument('--disable-dev-shm-usage')\n",
        "driver = webdriver.Chrome('chromedriver', options=options)"
      ],
      "metadata": {
        "id": "pUEuofniAM_e"
      },
      "execution_count": null,
      "outputs": []
    },
    {
      "cell_type": "markdown",
      "source": [
        "\n",
        "\n",
        "---\n",
        "\n"
      ],
      "metadata": {
        "id": "jFAg2QwOJyoq"
      }
    },
    {
      "cell_type": "markdown",
      "source": [
        "https://jhnoru.tistory.com/59"
      ],
      "metadata": {
        "id": "tpTi5gnvJzfC"
      }
    },
    {
      "cell_type": "code",
      "source": [
        "def init_driver():\n",
        "  \n",
        "  # initiate the driver:\n",
        "  options = webdriver.ChromeOptions()\n",
        "  options.add_argument('--headless')        # Head-less 설정\n",
        "  options.add_argument('--no-sandbox')\n",
        "  options.add_argument('--disable-dev-shm-usage')\n",
        "  driver = webdriver.Chrome('chromedriver', options=options)\n",
        "  \n",
        "  # set a default wait time for the browser [5 seconds here]:\n",
        "  driver.wait = WebDriverWait(driver, 5)\n",
        "  \n",
        "  return driver"
      ],
      "metadata": {
        "id": "t7XmxRNlEaSg"
      },
      "execution_count": null,
      "outputs": []
    },
    {
      "cell_type": "code",
      "source": [
        "def close_driver(driver):\n",
        "  driver.close()\n",
        "  return"
      ],
      "metadata": {
        "id": "Aw74QkROE0G3"
      },
      "execution_count": null,
      "outputs": []
    },
    {
      "cell_type": "code",
      "source": [
        "class wait_for_more_than_n_elements_to_be_present(object):\n",
        "  def __init__(self, locator, count):\n",
        "    self.locator = locator\n",
        "    self.count = count\n",
        "  def __call__(self, driver):\n",
        "    try:\n",
        "      elements = EC._find_elements(driver, self.locator)\n",
        "      return len(elements) > self.count\n",
        "    except StaleElementReferenceException:\n",
        "      return False"
      ],
      "metadata": {
        "id": "BSmAeh4GE-if"
      },
      "execution_count": null,
      "outputs": []
    },
    {
      "cell_type": "code",
      "source": [
        "def search_twitter(driver, query):\n",
        "  \n",
        "  # wait until the search box has loaded:\n",
        "  box = driver.wait.until(EC.presence_of_element_located((By.NAME, \"q\")))\n",
        "  \n",
        "  # find the search box in the html:\n",
        "  driver.find_element_by_name(\"q\").clear()\n",
        "  \n",
        "  # enter your search string in the search box:\n",
        "  box.send_keys(query)\n",
        "  \n",
        "  # submit the query (like hitting return):\n",
        "  box.submit()\n",
        "  \n",
        "  # initial wait for the search results to load\n",
        "  wait = WebDriverWait(driver, 10)\n",
        "  \n",
        "  try:\n",
        "    # wait until the first search result is found. Search results will be tweets, which are html list items and have the class='data-item-id':\n",
        "    wait.until(EC.visibility_of_element_located((By.CSS_SELECTOR, \"li[data-item-id]\")))\n",
        "    \n",
        "    # scroll down to the last tweet until there are no more tweets:\n",
        "    while True:\n",
        "      \n",
        "      # extract all the tweets:\n",
        "      tweets = driver.find_elements_by_css_selector(\"li[data-item-id]\")\n",
        "      \n",
        "      # find number of visible tweets:\n",
        "      number_of_tweets = len(tweets)\n",
        "      \n",
        "      # keep scrolling:\n",
        "      driver.execute_script(\"arguments[0].scrollIntoView();\", tweets[-1])\n",
        "      \n",
        "      try:\n",
        "        \n",
        "        # wait for more tweets to be visible:\n",
        "        wait.until(wait_for_more_than_n_elements_to_be_present((By.CSS_SELECTOR, \"li[data-item-id]\"), number_of_tweets))\n",
        "        \n",
        "      except TimeoutException:\n",
        "        \n",
        "        # if no more are visible the \"wait.until\" call will timeout. Catch the exception and exit the while loop:\n",
        "        break\n",
        "      \n",
        "      # extract the html for the whole lot:\n",
        "      page_source = driver.page_source\n",
        "    \n",
        "  except TimeoutException:\n",
        "    \n",
        "    # if there are no search results then the \"wait.until\" call in the first \"try\" statement will never happen and it will time out. So we catch that exception and return no html.\n",
        "    page_source=None\n",
        "    \n",
        "  return page_source"
      ],
      "metadata": {
        "id": "G7kyuDJnFceM"
      },
      "execution_count": null,
      "outputs": []
    },
    {
      "cell_type": "code",
      "source": [
        "def extract_tweets(page_source):\n",
        "  \n",
        "  soup = bs(page_source,'lxml')\n",
        "  \n",
        "  tweets = []\n",
        "  \n",
        "  for li in soup.find_all(\"li\", class_='js-stream-item'):\n",
        "    \n",
        "    # If our li doesn't have a tweet-id, we skip it as it's not going to be a tweet.\n",
        "    if 'data-item-id' not in li.attrs:\n",
        "      continue\n",
        "    \n",
        "    else:\n",
        "      tweet = {\n",
        "          'tweet_id': li['data-item-id'],\n",
        "          'text': None,\n",
        "          'user_id': None,\n",
        "          'user_screen_name': None,\n",
        "          'user_name': None,\n",
        "          'created_at': None,\n",
        "          'retweets': 0,\n",
        "          'likes': 0,\n",
        "          'replies': 0\n",
        "      }\n",
        "      \n",
        "      # Tweet Text\n",
        "      text_p = li.find(\"p\", class_=\"tweet-text\")\n",
        "      if text_p is not None:\n",
        "        tweet['text'] = text_p.get_text()\n",
        "      \n",
        "      # Tweet User ID, User Screen Name, User Name\n",
        "      user_details_div = li.find(\"div\", class_=\"tweet\")\n",
        "      if user_details_div is not None:\n",
        "        tweet['user_id'] = user_details_div['data-user-id']\n",
        "        tweet['user_screen_name'] = user_details_div['data-screen-name']\n",
        "        tweet['user_name'] = user_details_div['data-name']\n",
        "      \n",
        "      # Tweet date\n",
        "      date_span = li.find(\"span\", class_=\"_timestamp\")\n",
        "      if date_span is not None:\n",
        "        tweet['created_at'] = float(date_span['data-time-ms'])\n",
        "      \n",
        "      # Tweet Retweets\n",
        "      retweet_span = li.select(\"span.ProfileTweet-action--retweet > span.ProfileTweet-actionCount\")\n",
        "      if retweet_span is not None and len(retweet_span) > 0:\n",
        "        tweet['retweets'] = int(retweet_span[0]['data-tweet-stat-count'])\n",
        "      \n",
        "      # Tweet Likes\n",
        "      like_span = li.select(\"span.ProfileTweet-action--favorite > span.ProfileTweet-actionCount\")\n",
        "      if like_span is not None and len(like_span) > 0:\n",
        "        tweet['likes'] = int(like_span[0]['data-tweet-stat-count'])\n",
        "      \n",
        "      # Tweet Replies\n",
        "      reply_span = li.select(\"span.ProfileTweet-action--reply > span.ProfileTweet-actionCount\")\n",
        "      if reply_span is not None and len(reply_span) > 0:\n",
        "        tweet['replies'] = int(reply_span[0]['data-tweet-stat-count'])\n",
        "        \n",
        "        tweets.append(tweet)\n",
        "  \n",
        "  return tweets"
      ],
      "metadata": {
        "id": "t176Mc-SG7Nq"
      },
      "execution_count": null,
      "outputs": []
    },
    {
      "cell_type": "code",
      "source": [
        "if __name__ == \"__main__\":\n",
        "\n",
        "  # start a driver for a web browser:\n",
        "  driver = init_driver()\n",
        "  \n",
        "  # search twitter:\n",
        "  query = \"bitcoin\"\n",
        "  page_source = search_twitter(driver, query)\n",
        "  \n",
        "  # extract info from the search results:\n",
        "  tweets = extract_tweets(page_source)\n",
        "  \n",
        "  # ==============================================\n",
        "  # add in any other functions here\n",
        "  # maybe some analysis functions\n",
        "  # maybe a function to write the info to file\n",
        "  # ==============================================\n",
        "  \n",
        "  # close the driver:\n",
        "  close_driver(driver)"
      ],
      "metadata": {
        "colab": {
          "base_uri": "https://localhost:8080/",
          "height": 804
        },
        "id": "GzXgdLUMEEhs",
        "outputId": "d5d93ba7-02d4-4f4e-9d78-80de108b3a94"
      },
      "execution_count": null,
      "outputs": [
        {
          "output_type": "error",
          "ename": "TimeoutException",
          "evalue": "ignored",
          "traceback": [
            "\u001b[0;31m---------------------------------------------------------------------------\u001b[0m",
            "\u001b[0;31mTimeoutException\u001b[0m                          Traceback (most recent call last)",
            "\u001b[0;32m<ipython-input-26-2f81cfe349fd>\u001b[0m in \u001b[0;36m<module>\u001b[0;34m()\u001b[0m\n\u001b[1;32m      6\u001b[0m   \u001b[0;31m# search twitter:\u001b[0m\u001b[0;34m\u001b[0m\u001b[0;34m\u001b[0m\u001b[0;34m\u001b[0m\u001b[0m\n\u001b[1;32m      7\u001b[0m   \u001b[0mquery\u001b[0m \u001b[0;34m=\u001b[0m \u001b[0;34m\"bitcoin\"\u001b[0m\u001b[0;34m\u001b[0m\u001b[0;34m\u001b[0m\u001b[0m\n\u001b[0;32m----> 8\u001b[0;31m   \u001b[0mpage_source\u001b[0m \u001b[0;34m=\u001b[0m \u001b[0msearch_twitter\u001b[0m\u001b[0;34m(\u001b[0m\u001b[0mdriver\u001b[0m\u001b[0;34m,\u001b[0m \u001b[0mquery\u001b[0m\u001b[0;34m)\u001b[0m\u001b[0;34m\u001b[0m\u001b[0;34m\u001b[0m\u001b[0m\n\u001b[0m\u001b[1;32m      9\u001b[0m \u001b[0;34m\u001b[0m\u001b[0m\n\u001b[1;32m     10\u001b[0m   \u001b[0;31m# extract info from the search results:\u001b[0m\u001b[0;34m\u001b[0m\u001b[0;34m\u001b[0m\u001b[0;34m\u001b[0m\u001b[0m\n",
            "\u001b[0;32m<ipython-input-21-e6454df84202>\u001b[0m in \u001b[0;36msearch_twitter\u001b[0;34m(driver, query)\u001b[0m\n\u001b[1;32m      2\u001b[0m \u001b[0;34m\u001b[0m\u001b[0m\n\u001b[1;32m      3\u001b[0m   \u001b[0;31m# wait until the search box has loaded:\u001b[0m\u001b[0;34m\u001b[0m\u001b[0;34m\u001b[0m\u001b[0;34m\u001b[0m\u001b[0m\n\u001b[0;32m----> 4\u001b[0;31m   \u001b[0mbox\u001b[0m \u001b[0;34m=\u001b[0m \u001b[0mdriver\u001b[0m\u001b[0;34m.\u001b[0m\u001b[0mwait\u001b[0m\u001b[0;34m.\u001b[0m\u001b[0muntil\u001b[0m\u001b[0;34m(\u001b[0m\u001b[0mEC\u001b[0m\u001b[0;34m.\u001b[0m\u001b[0mpresence_of_element_located\u001b[0m\u001b[0;34m(\u001b[0m\u001b[0;34m(\u001b[0m\u001b[0mBy\u001b[0m\u001b[0;34m.\u001b[0m\u001b[0mNAME\u001b[0m\u001b[0;34m,\u001b[0m \u001b[0;34m\"q\"\u001b[0m\u001b[0;34m)\u001b[0m\u001b[0;34m)\u001b[0m\u001b[0;34m)\u001b[0m\u001b[0;34m\u001b[0m\u001b[0;34m\u001b[0m\u001b[0m\n\u001b[0m\u001b[1;32m      5\u001b[0m \u001b[0;34m\u001b[0m\u001b[0m\n\u001b[1;32m      6\u001b[0m   \u001b[0;31m# find the search box in the html:\u001b[0m\u001b[0;34m\u001b[0m\u001b[0;34m\u001b[0m\u001b[0;34m\u001b[0m\u001b[0m\n",
            "\u001b[0;32m/usr/local/lib/python3.7/dist-packages/selenium/webdriver/support/wait.py\u001b[0m in \u001b[0;36muntil\u001b[0;34m(self, method, message)\u001b[0m\n\u001b[1;32m     85\u001b[0m             \u001b[0;32mif\u001b[0m \u001b[0mtime\u001b[0m\u001b[0;34m.\u001b[0m\u001b[0mmonotonic\u001b[0m\u001b[0;34m(\u001b[0m\u001b[0;34m)\u001b[0m \u001b[0;34m>\u001b[0m \u001b[0mend_time\u001b[0m\u001b[0;34m:\u001b[0m\u001b[0;34m\u001b[0m\u001b[0;34m\u001b[0m\u001b[0m\n\u001b[1;32m     86\u001b[0m                 \u001b[0;32mbreak\u001b[0m\u001b[0;34m\u001b[0m\u001b[0;34m\u001b[0m\u001b[0m\n\u001b[0;32m---> 87\u001b[0;31m         \u001b[0;32mraise\u001b[0m \u001b[0mTimeoutException\u001b[0m\u001b[0;34m(\u001b[0m\u001b[0mmessage\u001b[0m\u001b[0;34m,\u001b[0m \u001b[0mscreen\u001b[0m\u001b[0;34m,\u001b[0m \u001b[0mstacktrace\u001b[0m\u001b[0;34m)\u001b[0m\u001b[0;34m\u001b[0m\u001b[0;34m\u001b[0m\u001b[0m\n\u001b[0m\u001b[1;32m     88\u001b[0m \u001b[0;34m\u001b[0m\u001b[0m\n\u001b[1;32m     89\u001b[0m     \u001b[0;32mdef\u001b[0m \u001b[0muntil_not\u001b[0m\u001b[0;34m(\u001b[0m\u001b[0mself\u001b[0m\u001b[0;34m,\u001b[0m \u001b[0mmethod\u001b[0m\u001b[0;34m,\u001b[0m \u001b[0mmessage\u001b[0m\u001b[0;34m=\u001b[0m\u001b[0;34m''\u001b[0m\u001b[0;34m)\u001b[0m\u001b[0;34m:\u001b[0m\u001b[0;34m\u001b[0m\u001b[0;34m\u001b[0m\u001b[0m\n",
            "\u001b[0;31mTimeoutException\u001b[0m: Message: \nStacktrace:\n#0 0x55f5e4fbd553 <unknown>\n#1 0x55f5e4ca8183 <unknown>\n#2 0x55f5e4cde619 <unknown>\n#3 0x55f5e4cde831 <unknown>\n#4 0x55f5e4d13087 <unknown>\n#5 0x55f5e4cfc01d <unknown>\n#6 0x55f5e4d10d6c <unknown>\n#7 0x55f5e4cfc363 <unknown>\n#8 0x55f5e4cd247c <unknown>\n#9 0x55f5e4cd3945 <unknown>\n#10 0x55f5e502d9d0 <unknown>\n#11 0x55f5e4ff2a38 <unknown>\n#12 0x55f5e4ff275c <unknown>\n#13 0x55f5e4ff2fc2 <unknown>\n#14 0x55f5e502b71b <unknown>\n#15 0x55f5e4ff3221 <unknown>\n#16 0x55f5e4fd65b3 <unknown>\n#17 0x55f5e4ffc988 <unknown>\n#18 0x55f5e4ffcb1a <unknown>\n#19 0x55f5e5015a41 <unknown>\n#20 0x7f41b19db6db <unknown>\n"
          ]
        }
      ]
    },
    {
      "cell_type": "markdown",
      "source": [
        "---\n",
        "\n"
      ],
      "metadata": {
        "id": "uY3fSc0eJaMd"
      }
    },
    {
      "cell_type": "markdown",
      "source": [
        "https://m.blog.naver.com/seodaeho91/221347214246"
      ],
      "metadata": {
        "id": "GgIESQcOJ28Z"
      }
    },
    {
      "cell_type": "code",
      "source": [
        "startdate=dt.date(year=2022,month=6,day=1) #시작날짜\n",
        "untildate=dt.date(year=2022,month=6,day=2) # 시작날짜 +1\n",
        "enddate=dt.date(year=2022,month=6,day=17) # 끝날짜"
      ],
      "metadata": {
        "id": "K9GLg_2nAvuj"
      },
      "execution_count": null,
      "outputs": []
    },
    {
      "cell_type": "code",
      "source": [
        "query=\"빅데이터\"\n",
        "totaltweets=[]\n",
        "while not enddate==startdate:\n",
        "    url='https://twitter.com/search?q='+query+'%20since%3A'+str(startdate)+'%20until%3A'+str(untildate)+'&src=typed_query'\n",
        "    driver.get(url)\n",
        "    html = driver.page_source\n",
        "    soup=BeautifulSoup(html,'html.parser')\n",
        "    \n",
        "    lastHeight = driver.execute_script(\"return document.body.scrollHeight\")\n",
        "    while True:\n",
        "        \n",
        "        dailyfreq={'Date':startdate}\n",
        "\n",
        "        wordfreq=0\n",
        "        tweets=soup.find_all(\"p\", {\"class\": \"TweetTextSize\"})\n",
        "                    \n",
        "        driver.execute_script(\"window.scrollTo(0, document.body.scrollHeight);\")\n",
        "        time.sleep(1)\n",
        "        \n",
        "        newHeight = driver.execute_script(\"return document.body.scrollHeight\")\n",
        "        \n",
        "\n",
        "        if newHeight != lastHeight:\n",
        "            html = driver.page_source\n",
        "            soup=BeautifulSoup(html,'html.parser')\n",
        "            tweets=soup.find_all(\"p\", {\"class\": \"TweetTextSize\"})\n",
        "            wordfreq=len(tweets)\n",
        "        else:\n",
        "            dailyfreq['Frequency']=wordfreq\n",
        "            wordfreq=0\n",
        "            startdate=untildate\n",
        "            untildate+=dt.timedelta(days=1)\n",
        "            dailyfreq={}\n",
        "            totaltweets.append(tweets)\n",
        "            break\n",
        "\n",
        "        lastHeight = newHeight"
      ],
      "metadata": {
        "id": "OdwRYxwTA2Or"
      },
      "execution_count": null,
      "outputs": []
    },
    {
      "cell_type": "code",
      "source": [
        "df = pd.DataFrame(columns=['Created_Date','Message'])\n",
        "\n",
        "for i in range(len(totaltweets)):\n",
        "    for j in range(len(totaltweets[i])):\n",
        "        df = df.append({'Created_Date': (totaltweets[i][j]).created_at,'Message':(totaltweets[i][j]).text}, ignore_index=True)"
      ],
      "metadata": {
        "id": "LSsUQcpuA8ar"
      },
      "execution_count": null,
      "outputs": []
    },
    {
      "cell_type": "code",
      "source": [
        "print(totaltweets)"
      ],
      "metadata": {
        "colab": {
          "base_uri": "https://localhost:8080/"
        },
        "id": "6jefwuR1Bnyb",
        "outputId": "08969868-8a01-4d7c-efb5-3978690d2499"
      },
      "execution_count": null,
      "outputs": [
        {
          "output_type": "stream",
          "name": "stdout",
          "text": [
            "[[], [], [], [], [], [], [], [], [], [], [], [], [], [], [], []]\n"
          ]
        }
      ]
    },
    {
      "cell_type": "markdown",
      "source": [
        "\n",
        "\n",
        "---\n",
        "\n"
      ],
      "metadata": {
        "id": "XohkM6ZGJeYH"
      }
    },
    {
      "cell_type": "markdown",
      "source": [
        "https://fouaaa.blogspot.com/2020/06/blog-post.html"
      ],
      "metadata": {
        "id": "SJNcCYsYJqfw"
      }
    },
    {
      "cell_type": "markdown",
      "source": [
        "\n",
        "\n",
        "---\n",
        "\n"
      ],
      "metadata": {
        "id": "hO6LT0IGLb7S"
      }
    },
    {
      "cell_type": "markdown",
      "source": [
        "https://blog.xeros.dev/posts/Python_Selenium_Get_Twitter_FollowerList/\n",
        "\n",
        "검색은 아니고 팔로워 목록이지만 코드 수정해서 사용 가능할듯"
      ],
      "metadata": {
        "id": "Ut9uTEGKMUsn"
      }
    }
  ]
}
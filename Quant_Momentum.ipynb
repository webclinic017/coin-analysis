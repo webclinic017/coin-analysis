{
  "nbformat": 4,
  "nbformat_minor": 0,
  "metadata": {
    "colab": {
      "provenance": [],
      "collapsed_sections": [],
      "authorship_tag": "ABX9TyOm6jPb2gxuJcN4yObFpzTw",
      "include_colab_link": true
    },
    "kernelspec": {
      "name": "python3",
      "display_name": "Python 3"
    },
    "language_info": {
      "name": "python"
    }
  },
  "cells": [
    {
      "cell_type": "markdown",
      "metadata": {
        "id": "view-in-github",
        "colab_type": "text"
      },
      "source": [
        "<a href=\"https://colab.research.google.com/github/HwayoungYoon/coin-analysis/blob/main/Quant_Momentum.ipynb\" target=\"_parent\"><img src=\"https://colab.research.google.com/assets/colab-badge.svg\" alt=\"Open In Colab\"/></a>"
      ]
    },
    {
      "cell_type": "markdown",
      "source": [
        "https://teddykoker.com/2019/05/momentum-strategy-from-stocks-on-the-move-in-python/"
      ],
      "metadata": {
        "id": "R8HGaDuHoVPZ"
      }
    },
    {
      "cell_type": "markdown",
      "source": [
        "# Momentum"
      ],
      "metadata": {
        "id": "JHBtYbjCoXWQ"
      }
    },
    {
      "cell_type": "code",
      "source": [
        "from datetime import datetime \n",
        "import pandas as pd\n",
        "import matplotlib.pyplot as plt\n",
        "import numpy as np\n",
        "%matplotlib inline\n",
        "plt.rcParams[\"figure.figsize\"] = (10, 6) # (w, h)\n",
        "plt.ioff()"
      ],
      "metadata": {
        "id": "p--hy8MAmfh_"
      },
      "execution_count": null,
      "outputs": []
    },
    {
      "cell_type": "code",
      "source": [
        "tickers = pd.read_csv('survivorship-free/tickers.csv', header=None)[1].tolist()\n",
        "stocks = (\n",
        "    (pd.concat(\n",
        "        [pd.read_csv(f\"survivorship-free/{ticker}.csv\", index_col='date', parse_dates=True)[\n",
        "            'close'\n",
        "        ].rename(ticker)\n",
        "        for ticker in tickers],\n",
        "        axis=1,\n",
        "        sort=True)\n",
        "    )\n",
        ")\n",
        "stocks = stocks.loc[:,~stocks.columns.duplicated()]"
      ],
      "metadata": {
        "id": "1o6v-p0eoal7"
      },
      "execution_count": null,
      "outputs": []
    },
    {
      "cell_type": "code",
      "source": [
        "from scipy.stats import linregress\n",
        "def momentum(closes):\n",
        "    returns = np.log(closes)\n",
        "    x = np.arange(len(returns))\n",
        "    slope, _, rvalue, _, _ = linregress(x, returns)\n",
        "    return ((1 + slope) ** 252) * (rvalue ** 2)  # annualize slope and multiply by R^2"
      ],
      "metadata": {
        "id": "1deZQPzPocrZ"
      },
      "execution_count": null,
      "outputs": []
    },
    {
      "cell_type": "code",
      "source": [
        "momentums = stocks.copy(deep=True)\n",
        "for ticker in tickers:\n",
        "    momentums[ticker] = stocks[ticker].rolling(90).apply(momentum, raw=False)"
      ],
      "metadata": {
        "id": "4U7uv9TkoclX"
      },
      "execution_count": null,
      "outputs": []
    },
    {
      "cell_type": "code",
      "source": [
        "plt.figure(figsize=(12, 9))\n",
        "plt.xlabel('Days')\n",
        "plt.ylabel('Stock Price')\n",
        "\n",
        "bests = momentums.max().sort_values(ascending=False).index[:5]\n",
        "for best in bests:\n",
        "    end = momentums[best].index.get_loc(momentums[best].idxmax())\n",
        "    rets = np.log(stocks[best].iloc[end - 90 : end])\n",
        "    x = np.arange(len(rets))\n",
        "    slope, intercept, r_value, p_value, std_err = linregress(x, rets)\n",
        "    plt.plot(np.arange(180), stocks[best][end-90:end+90])\n",
        "    plt.plot(x, np.e ** (intercept + slope*x))"
      ],
      "metadata": {
        "id": "WzJnewQ5of2A"
      },
      "execution_count": null,
      "outputs": []
    },
    {
      "cell_type": "markdown",
      "source": [
        "# Backtesting"
      ],
      "metadata": {
        "id": "H3ExzXRuokfZ"
      }
    },
    {
      "cell_type": "code",
      "source": [
        "import backtrader as bt\n",
        "\n",
        "class Momentum(bt.Indicator):\n",
        "    lines = ('trend',)\n",
        "    params = (('period', 90),)\n",
        "    \n",
        "    def __init__(self):\n",
        "        self.addminperiod(self.params.period)\n",
        "    \n",
        "    def next(self):\n",
        "        returns = np.log(self.data.get(size=self.p.period))\n",
        "        x = np.arange(len(returns))\n",
        "        slope, _, rvalue, _, _ = linregress(x, returns)\n",
        "        annualized = (1 + slope) ** 252\n",
        "        self.lines.trend[0] = annualized * (rvalue ** 2)\n",
        "        \n",
        "        \n",
        "class Strategy(bt.Strategy):\n",
        "    def __init__(self):\n",
        "        self.i = 0\n",
        "        self.inds = {}\n",
        "        self.spy = self.datas[0]\n",
        "        self.stocks = self.datas[1:]\n",
        "        \n",
        "        self.spy_sma200 = bt.indicators.SimpleMovingAverage(self.spy.close,\n",
        "                                                            period=200)\n",
        "        for d in self.stocks:\n",
        "            self.inds[d] = {}\n",
        "            self.inds[d][\"momentum\"] = Momentum(d.close, \n",
        "                                                period=90)\n",
        "            self.inds[d][\"sma100\"] = bt.indicators.SimpleMovingAverage(d.close, \n",
        "                                                                       period=100)\n",
        "            self.inds[d][\"atr20\"] = bt.indicators.ATR(d, \n",
        "                                                      period=20)\n",
        "\n",
        "    def prenext(self):\n",
        "        # call next() even when data is not available for all tickers\n",
        "        self.next()\n",
        "    \n",
        "    def next(self):\n",
        "        if self.i % 5 == 0:\n",
        "            self.rebalance_portfolio()\n",
        "        if self.i % 10 == 0:\n",
        "            self.rebalance_positions()\n",
        "        self.i += 1\n",
        "    \n",
        "    def rebalance_portfolio(self):\n",
        "        # only look at data that we can have indicators for \n",
        "        self.rankings = list(filter(lambda d: len(d) > 100, self.stocks))\n",
        "        self.rankings.sort(key=lambda d: self.inds[d][\"momentum\"][0])\n",
        "        num_stocks = len(self.rankings)\n",
        "        \n",
        "        # sell stocks based on criteria\n",
        "        for i, d in enumerate(self.rankings):\n",
        "            if self.getposition(self.data).size:\n",
        "                if i > num_stocks * 0.2 or d < self.inds[d][\"sma100\"]:\n",
        "                    self.close(d)\n",
        "        \n",
        "        if self.spy < self.spy_sma200:\n",
        "            return\n",
        "        \n",
        "        # buy stocks with remaining cash\n",
        "        for i, d in enumerate(self.rankings[:int(num_stocks * 0.2)]):\n",
        "            cash = self.broker.get_cash()\n",
        "            value = self.broker.get_value()\n",
        "            if cash <= 0:\n",
        "                break\n",
        "            if not self.getposition(self.data).size:\n",
        "                size = value * 0.001 / self.inds[d][\"atr20\"]\n",
        "                self.buy(d, size=size)\n",
        "                \n",
        "        \n",
        "    def rebalance_positions(self):\n",
        "        num_stocks = len(self.rankings)\n",
        "        \n",
        "        if self.spy < self.spy_sma200:\n",
        "            return\n",
        "\n",
        "        # rebalance all stocks\n",
        "        for i, d in enumerate(self.rankings[:int(num_stocks * 0.2)]):\n",
        "            cash = self.broker.get_cash()\n",
        "            value = self.broker.get_value()\n",
        "            if cash <= 0:\n",
        "                break\n",
        "            size = value * 0.001 / self.inds[d][\"atr20\"]\n",
        "            self.order_target_size(d, size)"
      ],
      "metadata": {
        "id": "u3BeIT0BoigW"
      },
      "execution_count": null,
      "outputs": []
    },
    {
      "cell_type": "code",
      "source": [
        "cerebro = bt.Cerebro(stdstats=False)\n",
        "cerebro.broker.set_coc(True)\n",
        "\n",
        "spy = bt.feeds.YahooFinanceData(dataname='SPY',\n",
        "                                 fromdate=datetime(2012,2,28),\n",
        "                                 todate=datetime(2018,2,28),\n",
        "                                 plot=False)\n",
        "cerebro.adddata(spy)  # add S&P 500 Index\n",
        "\n",
        "for ticker in tickers:\n",
        "    df = pd.read_csv(f\"survivorship-free/{ticker}.csv\",\n",
        "                     parse_dates=True,\n",
        "                     index_col=0)\n",
        "    if len(df) > 100: # data must be long enough to compute 100 day SMA\n",
        "        cerebro.adddata(bt.feeds.PandasData(dataname=df, plot=False))\n",
        "\n",
        "cerebro.addobserver(bt.observers.Value)\n",
        "cerebro.addanalyzer(bt.analyzers.SharpeRatio, riskfreerate=0.0)\n",
        "cerebro.addanalyzer(bt.analyzers.Returns)\n",
        "cerebro.addanalyzer(bt.analyzers.DrawDown)\n",
        "cerebro.addstrategy(Strategy)\n",
        "results = cerebro.run()"
      ],
      "metadata": {
        "id": "B-7Vg4E7onQd"
      },
      "execution_count": null,
      "outputs": []
    },
    {
      "cell_type": "code",
      "source": [
        "cerebro.plot(iplot=False)[0][0]\n",
        "print(f\"Sharpe: {results[0].analyzers.sharperatio.get_analysis()['sharperatio']:.3f}\")\n",
        "print(f\"Norm. Annual Return: {results[0].analyzers.returns.get_analysis()['rnorm100']:.2f}%\")\n",
        "print(f\"Max Drawdown: {results[0].analyzers.drawdown.get_analysis()['max']['drawdown']:.2f}%\")"
      ],
      "metadata": {
        "id": "Ih5_sdrPopKG"
      },
      "execution_count": null,
      "outputs": []
    }
  ]
}